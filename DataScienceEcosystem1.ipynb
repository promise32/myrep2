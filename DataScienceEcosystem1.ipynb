{
  "nbformat": 4,
  "nbformat_minor": 0,
  "metadata": {
    "colab": {
      "provenance": [],
      "authorship_tag": "ABX9TyNWbqEZ14J658trx0l7Az7A",
      "include_colab_link": true
    },
    "kernelspec": {
      "name": "python3",
      "display_name": "Python 3"
    },
    "language_info": {
      "name": "python"
    }
  },
  "cells": [
    {
      "cell_type": "markdown",
      "metadata": {
        "id": "view-in-github",
        "colab_type": "text"
      },
      "source": [
        "<a href=\"https://colab.research.google.com/github/promise32/myrep2/blob/child2/DataScienceEcosystem1.ipynb\" target=\"_parent\"><img src=\"https://colab.research.google.com/assets/colab-badge.svg\" alt=\"Open In Colab\"/></a>"
      ]
    },
    {
      "cell_type": "markdown",
      "source": [
        "##Data science tools and ecosystem\n"
      ],
      "metadata": {
        "id": "WixNBQMPHEMb"
      }
    },
    {
      "cell_type": "markdown",
      "source": [
        "In this notebook, Data Science Tools and Ecosystem are summarized"
      ],
      "metadata": {
        "id": "e-XL2zfZHoD6"
      }
    },
    {
      "cell_type": "markdown",
      "source": [
        "**Objectives:**\n",
        "\n",
        "- Jupyter notebook architecture implements a two process model with a karnel and a client\n",
        "\n",
        "- The notebook server is responsible for saving and loading the notebook\n",
        "\n",
        "- Jupyter notebook is like a scientist record that allows a data scientist record their data experiment and results that can be used by others\n",
        "\n",
        "- A jupyter notebook file allows you to combine a descriptive text, code blocks and code output in a single file\n",
        "\n",
        "- jupyter Environment includes visualization libraries stored in jupyter notebook such as pandas, numpy and matplotlib"
      ],
      "metadata": {
        "id": "Sy2xQPnnI9Yj"
      }
    },
    {
      "cell_type": "markdown",
      "source": [
        "Some of the popular languages that Data Scientists use are:\n",
        "1. python\n",
        "2. java\n",
        "3. R\n",
        "4. Julia"
      ],
      "metadata": {
        "id": "6WtJk63WKliX"
      }
    },
    {
      "cell_type": "markdown",
      "source": [
        "Some of the commonly used libraries used by Data Scientists include:\n",
        "1. Pandas\n",
        "2. Matplotlib\n",
        "3. Numpy\n",
        "4. Tensor flow"
      ],
      "metadata": {
        "id": "oOaJQ_YiK7jt"
      }
    },
    {
      "cell_type": "markdown",
      "source": [
        "|Data Science Tools|\n",
        "|------------------|\n",
        "|Jupyter Notebook|\n",
        "|jupyter Lab|\n",
        "|R studio|\n"
      ],
      "metadata": {
        "id": "j8AIPBObLLz5"
      }
    },
    {
      "cell_type": "markdown",
      "source": [
        "### Below are a few examples of evaluating arithmetic expressions in Python"
      ],
      "metadata": {
        "id": "iyvdbDQILc4t"
      }
    },
    {
      "cell_type": "code",
      "source": [
        "(3*4)+5"
      ],
      "metadata": {
        "colab": {
          "base_uri": "https://localhost:8080/"
        },
        "id": "jSHxsuvWM4-0",
        "outputId": "a5dc3b81-e71f-4fa0-8e54-b3d4925f2b1c"
      },
      "execution_count": 7,
      "outputs": [
        {
          "output_type": "execute_result",
          "data": {
            "text/plain": [
              "17"
            ]
          },
          "metadata": {},
          "execution_count": 7
        }
      ]
    },
    {
      "cell_type": "code",
      "source": [
        "200/60"
      ],
      "metadata": {
        "colab": {
          "base_uri": "https://localhost:8080/"
        },
        "id": "Vi0gIf2KS7J7",
        "outputId": "a54c004c-6975-4d65-f3c2-5a540c564e5c"
      },
      "execution_count": 8,
      "outputs": [
        {
          "output_type": "execute_result",
          "data": {
            "text/plain": [
              "3.3333333333333335"
            ]
          },
          "metadata": {},
          "execution_count": 8
        }
      ]
    },
    {
      "cell_type": "markdown",
      "source": [
        "## Author\n",
        "Promise"
      ],
      "metadata": {
        "id": "77Vqze7aTXUF"
      }
    }
  ]
}